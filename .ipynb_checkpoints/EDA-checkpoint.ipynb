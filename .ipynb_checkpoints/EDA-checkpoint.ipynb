{
 "cells": [
  {
   "cell_type": "code",
   "execution_count": 2,
   "metadata": {},
   "outputs": [
    {
     "data": {
      "text/html": [
       "<style>.container { width:100% !important; }</style>"
      ],
      "text/plain": [
       "<IPython.core.display.HTML object>"
      ]
     },
     "metadata": {},
     "output_type": "display_data"
    }
   ],
   "source": [
    "# Put these at the top of every notebook, to get automatic reloading and inline plotting\n",
    "import pandas as pd\n",
    "from IPython.core.display import display, HTML\n",
    "import matplotlib.pyplot as plt\n",
    "import warnings\n",
    "warnings.filterwarnings('ignore')\n",
    "\n",
    "%reload_ext autoreload\n",
    "%autoreload 1\n",
    "\n",
    "pd.set_option('display.max_rows', 800)\n",
    "pd.set_option('display.max_columns', 500)\n",
    "pd.set_option('display.width', 1000)\n",
    "pd.set_option('display.max_colwidth', 100)\n",
    "\n",
    "display(HTML(\"<style>.container { width:100% !important; }</style>\"))\n",
    "\n",
    "import warnings\n",
    "warnings.filterwarnings('ignore')\n",
    "\n",
    "import os, glob\n",
    "from os.path import join as pjoin\n",
    "import pandas as pd\n",
    "import numpy as np\n",
    "from scipy.spatial.distance import cdist, euclidean\n",
    "from scipy import stats\n",
    "import sklearn\n",
    "import matplotlib.pyplot as plt\n",
    "import seaborn as sns\n",
    "sns.set(style='whitegrid')"
   ]
  },
  {
   "cell_type": "markdown",
   "metadata": {},
   "source": [
    "---------------"
   ]
  },
  {
   "cell_type": "code",
   "execution_count": 3,
   "metadata": {},
   "outputs": [],
   "source": [
    "import tifffile as tiff\n",
    "import rasterio\n",
    "from rasterio.windows import Window"
   ]
  },
  {
   "cell_type": "code",
   "execution_count": 4,
   "metadata": {},
   "outputs": [],
   "source": [
    "data_path = \"./data/train_tier_1/\"\n",
    "acc_data_path = pjoin(data_path, \"acc\")\n",
    "acc_out_path = pjoin(os.getcwd(), \"out\")\n",
    "if not os.path.exists(acc_out_path):\n",
    "    os.mkdir(acc_out_path)\n",
    "scene_id = \"665946\"\n",
    "scene_dir_path = pjoin(acc_data_path, scene_id)\n",
    "scene_labels_path = pjoin(acc_data_path, scene_id+\"_labels\")\n",
    "scene_path = pjoin(scene_dir_path, scene_id+\".tif\")"
   ]
  },
  {
   "cell_type": "code",
   "execution_count": 69,
   "metadata": {},
   "outputs": [
    {
     "name": "stdout",
     "output_type": "stream",
     "text": [
      "84466 150147\n",
      "[2, 4, 8, 16, 32]\n",
      "Decimation factor= 16\n"
     ]
    }
   ],
   "source": [
    "# Read the input image\n",
    "input_source = rasterio.open(scene_path)\n",
    "\n",
    "print(input_source.width, input_source.height)\n",
    "\n",
    "tiff_size = [input_source.profile.get(\"width\"),\n",
    "             input_source.profile.get(\"height\")]\n",
    "\n",
    "# List of overviews from biggest to smallest\n",
    "oviews = input_source.overviews(1)\n",
    "\n",
    "# Retrieve the smallest thumbnail\n",
    "print(oviews)\n",
    "oview = oviews[-2]\n",
    "print('Decimation factor= {}'.format(oview))\n",
    "\n",
    "bands = (1, 2, 3, 4)\n",
    "# Tile size\n",
    "tile_size = (len(bands), int(input_source.height//oview), int(input_source.width//oview))\n",
    "\n",
    "img = np.empty(shape=tile_size).astype(input_source.profile['dtype'])\n",
    "# tile_window = Window(1000*oview, 1000*oview, tile_size[1], tile_size[2])\n",
    "img = input_source.read(bands, \n",
    "                         out=img)#, window=tile_window)\n",
    "\n",
    "# Convert the values into float\n",
    "img = img.astype('float')\n",
    "\n",
    "img = img/np.max(img)\n",
    "img = img.astype(np.float16)\n",
    "img_out_path = pjoin(acc_out_path, scene_id+\".png\")\n",
    "\n",
    "tiff.imsave(img_out_path, data=img[:3,:,:])"
   ]
  },
  {
   "cell_type": "code",
   "execution_count": 5,
   "metadata": {},
   "outputs": [
    {
     "name": "stdout",
     "output_type": "stream",
     "text": [
      "84466 150147\n",
      "Decimation factor= 32\n"
     ]
    },
    {
     "ename": "KeyboardInterrupt",
     "evalue": "",
     "output_type": "error",
     "traceback": [
      "\u001b[0;31m---------------------------------------------------------------------------\u001b[0m",
      "\u001b[0;31mKeyboardInterrupt\u001b[0m                         Traceback (most recent call last)",
      "\u001b[0;32m<ipython-input-5-7d0e91568f65>\u001b[0m in \u001b[0;36m<module>\u001b[0;34m()\u001b[0m\n\u001b[1;32m     32\u001b[0m \u001b[0;34m\u001b[0m\u001b[0m\n\u001b[1;32m     33\u001b[0m         \u001b[0;31m# Convert the values into float\u001b[0m\u001b[0;34m\u001b[0m\u001b[0;34m\u001b[0m\u001b[0;34m\u001b[0m\u001b[0m\n\u001b[0;32m---> 34\u001b[0;31m         \u001b[0mimg\u001b[0m \u001b[0;34m=\u001b[0m \u001b[0mimg\u001b[0m\u001b[0;34m.\u001b[0m\u001b[0mastype\u001b[0m\u001b[0;34m(\u001b[0m\u001b[0;34m'float'\u001b[0m\u001b[0;34m)\u001b[0m\u001b[0;34m\u001b[0m\u001b[0;34m\u001b[0m\u001b[0m\n\u001b[0m\u001b[1;32m     35\u001b[0m \u001b[0;34m\u001b[0m\u001b[0m\n\u001b[1;32m     36\u001b[0m         \u001b[0;32mif\u001b[0m \u001b[0mnp\u001b[0m\u001b[0;34m.\u001b[0m\u001b[0mmax\u001b[0m\u001b[0;34m(\u001b[0m\u001b[0mimg\u001b[0m\u001b[0;34m)\u001b[0m \u001b[0;34m<=\u001b[0m \u001b[0;36m0\u001b[0m\u001b[0;34m:\u001b[0m\u001b[0;34m\u001b[0m\u001b[0;34m\u001b[0m\u001b[0m\n",
      "\u001b[0;31mKeyboardInterrupt\u001b[0m: "
     ]
    }
   ],
   "source": [
    "# Read the input image\n",
    "input_source = rasterio.open(scene_path)\n",
    "\n",
    "print(input_source.width, input_source.height)\n",
    "\n",
    "tiff_size = [input_source.profile.get(\"width\"),\n",
    "             input_source.profile.get(\"height\")]\n",
    "\n",
    "# List of overviews from biggest to smallest\n",
    "oviews = input_source.overviews(1)\n",
    "\n",
    "# Retrieve the smallest thumbnail\n",
    "oview = oviews[-1]\n",
    "print('Decimation factor= {}'.format(oview))\n",
    "\n",
    "bands = (1, 2, 3, 4)\n",
    "# Tile size\n",
    "tile_size = (len(bands), 1024, 1024)\n",
    "\n",
    "xx, yy = np.meshgrid(np.arange(0, tiff_size[0], tile_size[1]),\n",
    "                     np.arange(0, tiff_size[1], tile_size[2]),\n",
    "                     sparse=True)\n",
    "for x in xx.ravel():\n",
    "    for y in yy.ravel():\n",
    "        x = int(min(x, tiff_size[0]))\n",
    "        y = int(min(y, tiff_size[1]))\n",
    "\n",
    "        img = np.empty(shape=tile_size).astype(input_source.profile['dtype'])\n",
    "        tile_window = Window(x, y, tile_size[1], tile_size[2])\n",
    "        img = input_source.read(bands, \n",
    "                                 out=img, window=tile_window)\n",
    "\n",
    "        # Convert the values into float\n",
    "        img = img.astype('float')\n",
    "\n",
    "        if np.max(img) <= 0:\n",
    "            continue\n",
    "\n",
    "        if np.count_nonzero(img[3,:,:].ravel())/(tile_size[1]*tile_size[2]) <= 0.25:\n",
    "            continue\n",
    "\n",
    "        img = img/np.max(img)\n",
    "        img = img.astype(np.float16)\n",
    "        img_out_path = pjoin(acc_out_path, scene_id+\"_\"+str(x)+\"_\"+str(y)+\".png\")\n",
    "        tiff.imsave(img_out_path, data=img[:3,:,:])"
   ]
  }
 ],
 "metadata": {
  "kernelspec": {
   "display_name": "Python 3",
   "language": "python",
   "name": "python3"
  },
  "language_info": {
   "codemirror_mode": {
    "name": "ipython",
    "version": 3
   },
   "file_extension": ".py",
   "mimetype": "text/x-python",
   "name": "python",
   "nbconvert_exporter": "python",
   "pygments_lexer": "ipython3",
   "version": "3.6.7"
  }
 },
 "nbformat": 4,
 "nbformat_minor": 2
}
