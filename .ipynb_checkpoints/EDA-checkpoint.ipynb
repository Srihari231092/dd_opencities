{
 "cells": [
  {
   "cell_type": "code",
   "execution_count": 1,
   "metadata": {},
   "outputs": [
    {
     "data": {
      "text/html": [
       "<style>.container { width:100% !important; }</style>"
      ],
      "text/plain": [
       "<IPython.core.display.HTML object>"
      ]
     },
     "metadata": {},
     "output_type": "display_data"
    }
   ],
   "source": [
    "# Put these at the top of every notebook, to get automatic reloading and inline plotting\n",
    "import pandas as pd\n",
    "from IPython.core.display import display, HTML\n",
    "import matplotlib.pyplot as plt\n",
    "import warnings\n",
    "warnings.filterwarnings('ignore')\n",
    "\n",
    "%reload_ext autoreload\n",
    "%autoreload 1\n",
    "\n",
    "pd.set_option('display.max_rows', 800)\n",
    "pd.set_option('display.max_columns', 500)\n",
    "pd.set_option('display.width', 1000)\n",
    "pd.set_option('display.max_colwidth', 100)\n",
    "\n",
    "display(HTML(\"<style>.container { width:100% !important; }</style>\"))\n",
    "\n",
    "import warnings\n",
    "warnings.filterwarnings('ignore')\n",
    "\n",
    "import os, glob\n",
    "from os.path import join as pjoin\n",
    "import pandas as pd\n",
    "import numpy as np\n",
    "from scipy.spatial.distance import cdist, euclidean\n",
    "from scipy import stats\n",
    "import sklearn\n",
    "import matplotlib.pyplot as plt\n",
    "import seaborn as sns\n",
    "sns.set(style='whitegrid')"
   ]
  },
  {
   "cell_type": "markdown",
   "metadata": {},
   "source": [
    "---------------"
   ]
  },
  {
   "cell_type": "code",
   "execution_count": 265,
   "metadata": {},
   "outputs": [],
   "source": [
    "import tifffile as tfile\n",
    "import rasterio\n",
    "from rasterio.windows import Window"
   ]
  },
  {
   "cell_type": "code",
   "execution_count": 281,
   "metadata": {},
   "outputs": [
    {
     "data": {
      "text/plain": [
       "'/home/sriharis/scratch-midway2/train_tier_1/acc/665946/665946.tif'"
      ]
     },
     "execution_count": 281,
     "metadata": {},
     "output_type": "execute_result"
    }
   ],
   "source": [
    "scene_path"
   ]
  },
  {
   "cell_type": "code",
   "execution_count": 279,
   "metadata": {},
   "outputs": [],
   "source": [
    "data_path = \"/home/sriharis/scratch-midway2/train_tier_1/\"\n",
    "acc_data_path = pjoin(data_path, \"acc\")\n",
    "acc_out_path = pjoin(os.getcwd(), \"out\")\n",
    "if not os.path.exists(acc_out_path):\n",
    "    os.mkdir(acc_out_path)\n",
    "scene_id = \"665946\"\n",
    "scene_dir_path = pjoin(acc_data_path, scene_id)\n",
    "scene_labels_path = pjoin(acc_data_path, scene_id+\"_labels\")\n",
    "scene_path = pjoin(scene_dir_path, scene_id+\".tif\")"
   ]
  },
  {
   "cell_type": "code",
   "execution_count": 280,
   "metadata": {},
   "outputs": [
    {
     "name": "stdout",
     "output_type": "stream",
     "text": [
      "84466 150147\n",
      "Decimation factor= 32\n",
      "0 29696\n",
      "0 30208\n",
      "0 30720\n",
      "0 31232\n",
      "0 31744\n",
      "0 32256\n",
      "0 32768\n",
      "0 33280\n",
      "0 33792\n",
      "0 34304\n",
      "0 34816\n",
      "0 35328\n",
      "0 35840\n",
      "0 36352\n",
      "0 36864\n",
      "0 37376\n",
      "0 37888\n",
      "0 38400\n",
      "0 38912\n",
      "0 39424\n",
      "0 39936\n",
      "0 40448\n",
      "0 40960\n",
      "0 41472\n",
      "0 41984\n",
      "0 42496\n",
      "0 43008\n",
      "0 43520\n",
      "0 44032\n",
      "0 44544\n",
      "0 45056\n",
      "0 45568\n",
      "512 29184\n",
      "512 29696\n",
      "512 30208\n",
      "512 30720\n",
      "512 31232\n",
      "512 31744\n",
      "512 32256\n",
      "512 32768\n",
      "512 33280\n",
      "512 33792\n",
      "512 34304\n",
      "512 34816\n",
      "512 35328\n",
      "512 35840\n",
      "512 36352\n",
      "512 36864\n",
      "512 37376\n",
      "512 37888\n",
      "512 38400\n",
      "512 38912\n",
      "512 39424\n",
      "512 39936\n",
      "512 40448\n",
      "512 40960\n",
      "512 41472\n",
      "512 41984\n",
      "512 42496\n",
      "512 43008\n",
      "512 43520\n",
      "512 44032\n",
      "512 44544\n",
      "512 45056\n",
      "512 45568\n",
      "512 46080\n",
      "512 46592\n",
      "1024 28672\n",
      "1024 29184\n",
      "1024 29696\n",
      "1024 30208\n",
      "1024 30720\n",
      "1024 31232\n",
      "1024 31744\n",
      "1024 32256\n",
      "1024 32768\n",
      "1024 33280\n",
      "1024 33792\n",
      "1024 34304\n",
      "1024 34816\n",
      "1024 35328\n",
      "1024 35840\n",
      "1024 36352\n",
      "1024 36864\n",
      "1024 37376\n",
      "1024 37888\n",
      "1024 38400\n",
      "1024 38912\n",
      "1024 39424\n",
      "1024 39936\n",
      "1024 40448\n",
      "1024 40960\n",
      "1024 41472\n",
      "1024 41984\n",
      "1024 42496\n",
      "1024 43008\n",
      "1024 43520\n",
      "1024 44032\n",
      "1024 44544\n",
      "1024 45056\n",
      "1024 45568\n"
     ]
    }
   ],
   "source": [
    "bands = (1,2,3,4)\n",
    "img_size = (len(bands),512,512)\n",
    "\n",
    "thumbnails = []\n",
    "\n",
    "# Open the COG\n",
    "with rasterio.open(scene_path) as src:\n",
    "    \n",
    "    print(src.width, src.height)\n",
    "    \n",
    "    tiff_size = [src.profile.get(\"width\"), src.profile.get(\"height\")]\n",
    "    \n",
    "    # List of overviews from biggest to smallest\n",
    "    oviews = src.overviews(1)\n",
    "\n",
    "    # Retrieve the smallest thumbnail\n",
    "    oview = oviews[-1]\n",
    "    print('Decimation factor= {}'.format(oview))\n",
    "    \n",
    "    #tiff_size[0] = int(tiff_size[0] / oview) \n",
    "    #tiff_size[1] = int(tiff_size[1] / oview) \n",
    "    \n",
    "    xx, yy = np.meshgrid(np.arange(0, tiff_size[0], img_size[1]), \n",
    "                         np.arange(0, tiff_size[1], img_size[2]),\n",
    "                         sparse=True)\n",
    "\n",
    "    for x in xx.ravel():\n",
    "        for y in yy.ravel():\n",
    "            x = int(min(x, tiff_size[0]))\n",
    "            y = int(min(y, tiff_size[1]))\n",
    "            \n",
    "            img = np.empty(shape=img_size).astype(src.profile['dtype'])\n",
    "            img = src.read(bands, out=img, window=Window(x, y, img_size[0]*oview, img_size[1]*oview))\n",
    "\n",
    "            # Convert the values into float\n",
    "            img = img.astype('f4')\n",
    "            \n",
    "            if np.max(img) <= 0:\n",
    "                continue\n",
    "                \n",
    "            img_out_path = pjoin(acc_out_path, scene_id+\"_\"+str(x)+\"_\"+str(y)+\".tif\")\n",
    "            tfile.imsave(img_out_path, data=img)\n",
    "\n",
    "            # Convert 0 values to NaNs\n",
    "            # img[img==0] = np.nan"
   ]
  },
  {
   "cell_type": "code",
   "execution_count": 255,
   "metadata": {},
   "outputs": [
    {
     "data": {
      "text/plain": [
       "<matplotlib.image.AxesImage at 0x7ffa773c16d8>"
      ]
     },
     "execution_count": 255,
     "metadata": {},
     "output_type": "execute_result"
    },
    {
     "data": {
      "image/png": "[encoded data removed]",
      "text/plain": [
       "<Figure size 432x288 with 1 Axes>"
      ]
     },
     "metadata": {},
     "output_type": "display_data"
    }
   ],
   "source": [
    "plt.imshow(img[1,:,:])"
   ]
  }
 ],
 "metadata": {
  "kernelspec": {
   "display_name": "Python [default]",
   "language": "python",
   "name": "python3"
  },
  "language_info": {
   "codemirror_mode": {
    "name": "ipython",
    "version": 3
   },
   "file_extension": ".py",
   "mimetype": "text/x-python",
   "name": "python",
   "nbconvert_exporter": "python",
   "pygments_lexer": "ipython3",
   "version": "3.6.3"
  }
 },
 "nbformat": 4,
 "nbformat_minor": 2
}
