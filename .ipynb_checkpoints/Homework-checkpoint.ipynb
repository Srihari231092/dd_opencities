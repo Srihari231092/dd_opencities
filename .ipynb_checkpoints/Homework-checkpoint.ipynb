{
 "cells": [
  {
   "cell_type": "code",
   "execution_count": 1,
   "metadata": {
    "scrolled": false
   },
   "outputs": [
    {
     "data": {
      "text/html": [
       "<style>.container { width:100% !important; }</style>"
      ],
      "text/plain": [
       "<IPython.core.display.HTML object>"
      ]
     },
     "metadata": {},
     "output_type": "display_data"
    }
   ],
   "source": [
    "# Put these at the top of every notebook, to get automatic reloading and inline plotting\n",
    "import pandas as pd\n",
    "from IPython.core.display import display, HTML\n",
    "import matplotlib.pyplot as plt\n",
    "import warnings\n",
    "warnings.filterwarnings('ignore')\n",
    "\n",
    "%reload_ext autoreload\n",
    "%autoreload 1\n",
    "\n",
    "pd.set_option('display.max_rows', 800)\n",
    "pd.set_option('display.max_columns', 500)\n",
    "pd.set_option('display.width', 1000)\n",
    "pd.set_option('display.max_colwidth', 100)\n",
    "\n",
    "display(HTML(\"<style>.container { width:100% !important; }</style>\"))\n",
    "\n",
    "import warnings\n",
    "warnings.filterwarnings('ignore')\n",
    "\n",
    "import os, glob\n",
    "import pandas as pd\n",
    "import numpy as np\n",
    "from scipy.spatial.distance import cdist, euclidean\n",
    "from scipy import stats\n",
    "import sklearn\n",
    "import matplotlib.pyplot as plt\n",
    "import seaborn as sns\n",
    "sns.set(style='whitegrid')\n",
    "\n",
    "# from keras.models import Model\n",
    "# from keras.layers import Input, Conv2D, MaxPooling2D, concatenate, Conv2DTranspose\n",
    "# from keras.optimizers import Adam\n",
    "# from keras.callbacks import ModelCheckpoint\n",
    "# from keras.callbacks import CSVLogger\n",
    "# from keras.callbacks import TensorBoard\n"
   ]
  },
  {
   "cell_type": "code",
   "execution_count": 9,
   "metadata": {},
   "outputs": [],
   "source": [
    "from Utils.UtilsImg import *\n",
    "# from Utils.UtilsViz import *\n",
    "import tifffile as tiff\n",
    "# from satellite_utils import *"
   ]
  },
  {
   "cell_type": "code",
   "execution_count": 30,
   "metadata": {},
   "outputs": [
    {
     "data": {
      "text/plain": [
       "'D:\\\\Dev\\\\Sources\\\\Projects\\\\GitProjects\\\\AML\\\\SatelliteImageSegmentation_Session1'"
      ]
     },
     "execution_count": 30,
     "metadata": {},
     "output_type": "execute_result"
    }
   ],
   "source": [
    "os.getcwd()"
   ]
  },
  {
   "cell_type": "code",
   "execution_count": 35,
   "metadata": {},
   "outputs": [
    {
     "data": {
      "text/plain": [
       "['cropped_images', 'gt_mband', 'mband']"
      ]
     },
     "metadata": {},
     "output_type": "display_data"
    },
    {
     "name": "stdout",
     "output_type": "stream",
     "text": [
      "01.tif\n",
      "(8, 837, 851)\n"
     ]
    },
    {
     "data": {
      "text/plain": [
       "(837, 851, 3)"
      ]
     },
     "metadata": {},
     "output_type": "display_data"
    },
    {
     "name": "stdout",
     "output_type": "stream",
     "text": [
      "02.tif\n",
      "(8, 837, 848)\n"
     ]
    },
    {
     "data": {
      "text/plain": [
       "(837, 848, 3)"
      ]
     },
     "metadata": {},
     "output_type": "display_data"
    },
    {
     "name": "stdout",
     "output_type": "stream",
     "text": [
      "03.tif\n",
      "(8, 837, 848)\n"
     ]
    },
    {
     "data": {
      "text/plain": [
       "(837, 848, 3)"
      ]
     },
     "metadata": {},
     "output_type": "display_data"
    },
    {
     "name": "stdout",
     "output_type": "stream",
     "text": [
      "04.tif\n",
      "(8, 848, 837)\n"
     ]
    },
    {
     "data": {
      "text/plain": [
       "(848, 837, 3)"
      ]
     },
     "metadata": {},
     "output_type": "display_data"
    },
    {
     "name": "stdout",
     "output_type": "stream",
     "text": [
      "05.tif\n",
      "(8, 851, 837)\n"
     ]
    },
    {
     "data": {
      "text/plain": [
       "(851, 837, 3)"
      ]
     },
     "metadata": {},
     "output_type": "display_data"
    },
    {
     "name": "stdout",
     "output_type": "stream",
     "text": [
      "06.tif\n",
      "(8, 851, 837)\n"
     ]
    },
    {
     "data": {
      "text/plain": [
       "(851, 837, 3)"
      ]
     },
     "metadata": {},
     "output_type": "display_data"
    },
    {
     "name": "stdout",
     "output_type": "stream",
     "text": [
      "07.tif\n",
      "(8, 848, 837)\n"
     ]
    },
    {
     "data": {
      "text/plain": [
       "(848, 837, 3)"
      ]
     },
     "metadata": {},
     "output_type": "display_data"
    },
    {
     "name": "stdout",
     "output_type": "stream",
     "text": [
      "08.tif\n",
      "(8, 848, 837)\n"
     ]
    },
    {
     "data": {
      "text/plain": [
       "(848, 837, 3)"
      ]
     },
     "metadata": {},
     "output_type": "display_data"
    },
    {
     "name": "stdout",
     "output_type": "stream",
     "text": [
      "09.tif\n",
      "(8, 837, 849)\n"
     ]
    },
    {
     "data": {
      "text/plain": [
       "(837, 849, 3)"
      ]
     },
     "metadata": {},
     "output_type": "display_data"
    },
    {
     "name": "stdout",
     "output_type": "stream",
     "text": [
      "10.tif\n",
      "(8, 837, 848)\n"
     ]
    },
    {
     "data": {
      "text/plain": [
       "(837, 848, 3)"
      ]
     },
     "metadata": {},
     "output_type": "display_data"
    },
    {
     "name": "stdout",
     "output_type": "stream",
     "text": [
      "11.tif\n",
      "(8, 837, 851)\n"
     ]
    },
    {
     "data": {
      "text/plain": [
       "(837, 851, 3)"
      ]
     },
     "metadata": {},
     "output_type": "display_data"
    },
    {
     "name": "stdout",
     "output_type": "stream",
     "text": [
      "12.tif\n",
      "(8, 849, 837)\n"
     ]
    },
    {
     "data": {
      "text/plain": [
       "(849, 837, 3)"
      ]
     },
     "metadata": {},
     "output_type": "display_data"
    },
    {
     "name": "stdout",
     "output_type": "stream",
     "text": [
      "13.tif\n",
      "(8, 837, 848)\n"
     ]
    },
    {
     "data": {
      "text/plain": [
       "(837, 848, 3)"
      ]
     },
     "metadata": {},
     "output_type": "display_data"
    },
    {
     "name": "stdout",
     "output_type": "stream",
     "text": [
      "14.tif\n",
      "(8, 849, 837)\n"
     ]
    },
    {
     "data": {
      "text/plain": [
       "(849, 837, 3)"
      ]
     },
     "metadata": {},
     "output_type": "display_data"
    },
    {
     "name": "stdout",
     "output_type": "stream",
     "text": [
      "15.tif\n",
      "(8, 837, 848)\n"
     ]
    },
    {
     "data": {
      "text/plain": [
       "(837, 848, 3)"
      ]
     },
     "metadata": {},
     "output_type": "display_data"
    },
    {
     "name": "stdout",
     "output_type": "stream",
     "text": [
      "16.tif\n",
      "(8, 837, 848)\n"
     ]
    },
    {
     "data": {
      "text/plain": [
       "(837, 848, 3)"
      ]
     },
     "metadata": {},
     "output_type": "display_data"
    },
    {
     "name": "stdout",
     "output_type": "stream",
     "text": [
      "17.tif\n",
      "(8, 849, 837)\n"
     ]
    },
    {
     "data": {
      "text/plain": [
       "(849, 837, 3)"
      ]
     },
     "metadata": {},
     "output_type": "display_data"
    },
    {
     "name": "stdout",
     "output_type": "stream",
     "text": [
      "18.tif\n",
      "(8, 846, 837)\n"
     ]
    },
    {
     "data": {
      "text/plain": [
       "(846, 837, 3)"
      ]
     },
     "metadata": {},
     "output_type": "display_data"
    },
    {
     "name": "stdout",
     "output_type": "stream",
     "text": [
      "19.tif\n",
      "(8, 837, 848)\n"
     ]
    },
    {
     "data": {
      "text/plain": [
       "(837, 848, 3)"
      ]
     },
     "metadata": {},
     "output_type": "display_data"
    },
    {
     "name": "stdout",
     "output_type": "stream",
     "text": [
      "20.tif\n",
      "(8, 837, 849)\n"
     ]
    },
    {
     "data": {
      "text/plain": [
       "(837, 849, 3)"
      ]
     },
     "metadata": {},
     "output_type": "display_data"
    },
    {
     "name": "stdout",
     "output_type": "stream",
     "text": [
      "21.tif\n",
      "(8, 848, 837)\n"
     ]
    },
    {
     "data": {
      "text/plain": [
       "(848, 837, 3)"
      ]
     },
     "metadata": {},
     "output_type": "display_data"
    },
    {
     "name": "stdout",
     "output_type": "stream",
     "text": [
      "22.tif\n",
      "(8, 837, 849)\n"
     ]
    },
    {
     "data": {
      "text/plain": [
       "(837, 849, 3)"
      ]
     },
     "metadata": {},
     "output_type": "display_data"
    },
    {
     "name": "stdout",
     "output_type": "stream",
     "text": [
      "23.tif\n",
      "(8, 838, 835)\n"
     ]
    },
    {
     "data": {
      "text/plain": [
       "(838, 835, 3)"
      ]
     },
     "metadata": {},
     "output_type": "display_data"
    },
    {
     "name": "stdout",
     "output_type": "stream",
     "text": [
      "24.tif\n",
      "(8, 849, 837)\n"
     ]
    },
    {
     "data": {
      "text/plain": [
       "(849, 837, 3)"
      ]
     },
     "metadata": {},
     "output_type": "display_data"
    }
   ],
   "source": [
    "display(os.listdir(\"./data\"))\n",
    "data_dir = \"./data/mband\"\n",
    "gt_dir = \"./data/gt_mband\"\n",
    "\n",
    "x_all = []\n",
    "y_all = []\n",
    "\n",
    "it = 0\n",
    "\n",
    "for img_name in os.listdir(data_dir):\n",
    "    if \"test\" in img_name:\n",
    "        continue\n",
    "    print(img_name)\n",
    "    \n",
    "    img_path = os.path.join(data_dir, img_name)\n",
    "    gt_path = os.path.join(gt_dir, img_name)\n",
    "    img = tiff.imread(img_path)\n",
    "    gt = tiff.imread(gt_path)\n",
    "    print(img.shape)\n",
    "#     print(img.shape, img.dtype, gt.shape, gt.dtype)\n",
    "    # Make multiple masks\n",
    "    img_sum = np.zeros((img.shape[1], img.shape[2], 3), dtype=np.float64)\n",
    "    img_sum[:,:,0] = img[3, :, :]/np.max(img[3, :, :])\n",
    "    img_sum[:,:,1] = img[4, :, :]/np.max(img[4, :, :])\n",
    "    img_sum[:,:,2] = img[6, :, :]/np.max(img[6, :, :])\n",
    "    display(img_sum.shape)\n",
    "    display_image(img_sum)\n",
    "    cv2.imwrite(\"./op/\"+img_name[:-4]+\".png\", (img_sum[:,:,::-1]*255).astype(np.uint8))\n",
    "#     break"
   ]
  },
  {
   "cell_type": "code",
   "execution_count": 33,
   "metadata": {},
   "outputs": [
    {
     "data": {
      "text/plain": [
       "'./op/01.png'"
      ]
     },
     "execution_count": 33,
     "metadata": {},
     "output_type": "execute_result"
    }
   ],
   "source": [
    "\"./op/\"+img_name[:-4]+\".png\""
   ]
  },
  {
   "cell_type": "code",
   "execution_count": 7,
   "metadata": {},
   "outputs": [
    {
     "data": {
      "text/plain": [
       "(5, 837, 851)"
      ]
     },
     "execution_count": 7,
     "metadata": {},
     "output_type": "execute_result"
    }
   ],
   "source": [
    "gt.shape"
   ]
  },
  {
   "cell_type": "code",
   "execution_count": 20,
   "metadata": {},
   "outputs": [
    {
     "data": {
      "text/plain": [
       "dtype('float64')"
      ]
     },
     "metadata": {},
     "output_type": "display_data"
    }
   ],
   "source": [
    "img_sum = np.sum(img, axis=0).astype(np.float64)\n",
    "display(img_sum.dtype)\n",
    "display_image(img_sum/np.max(img_sum))"
   ]
  },
  {
   "cell_type": "code",
   "execution_count": 19,
   "metadata": {},
   "outputs": [
    {
     "data": {
      "text/plain": [
       "array([[4986., 4979., 4979., ..., 4661., 4624., 4685.],\n",
       "       [4940., 4917., 4941., ..., 4653., 4689., 4751.],\n",
       "       [4834., 4847., 4877., ..., 4806., 4860., 4896.],\n",
       "       ...,\n",
       "       [5014., 5297., 5313., ..., 4497., 4525., 4481.],\n",
       "       [5113., 5326., 5258., ..., 4473., 4482., 4377.],\n",
       "       [5151., 5337., 5268., ..., 4468., 4485., 4432.]])"
      ]
     },
     "execution_count": 19,
     "metadata": {},
     "output_type": "execute_result"
    }
   ],
   "source": [
    "img_sum"
   ]
  }
 ],
 "metadata": {
  "kernelspec": {
   "display_name": "Python [default]",
   "language": "python",
   "name": "python3"
  },
  "language_info": {
   "codemirror_mode": {
    "name": "ipython",
    "version": 3
   },
   "file_extension": ".py",
   "mimetype": "text/x-python",
   "name": "python",
   "nbconvert_exporter": "python",
   "pygments_lexer": "ipython3",
   "version": "3.6.3"
  }
 },
 "nbformat": 4,
 "nbformat_minor": 2
}
