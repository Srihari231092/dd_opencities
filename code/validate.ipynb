{
 "cells": [
  {
   "cell_type": "code",
   "execution_count": 1,
   "metadata": {},
   "outputs": [],
   "source": [
    "import os\n",
    "import tifffile as tiff\n",
    "import numpy as np\n",
    "from sklearn.metrics import confusion_matrix"
   ]
  },
  {
   "cell_type": "code",
   "execution_count": 2,
   "metadata": {},
   "outputs": [],
   "source": [
    "gt_fpath = '../data/gt_mband/24.tif'\n",
    "pred_fpath = './result.tif'\n",
    "gt_img = tiff.imread(gt_fpath).transpose([1,2,0])\n",
    "pred_img = tiff.imread(pred_fpath).transpose([1,2,0])"
   ]
  },
  {
   "cell_type": "code",
   "execution_count": 3,
   "metadata": {},
   "outputs": [],
   "source": [
    "for ch in range(gt_img.shape[2]):\n",
    "    gt_img[:,:,ch] = np.where(gt_img[:,:,ch]>0, ch+1, 0)\n",
    "    \n",
    "for ch in range(gt_img.shape[2]):\n",
    "    pred_img[:,:,ch] = np.where(pred_img[:,:,ch]>0, ch+1, 0)\n",
    "    \n",
    "y_true = gt_img.ravel()\n",
    "y_pred = pred_img.ravel()"
   ]
  },
  {
   "cell_type": "code",
   "execution_count": 4,
   "metadata": {},
   "outputs": [
    {
     "data": {
      "text/plain": [
       "array([[1541255,  385597,  205965,  427896,   15569,  438976],\n",
       "       [    810,  115882,       0,       0,       0,       0],\n",
       "       [  21913,       0,   10291,       0,       0,       0],\n",
       "       [  13156,       0,       0,   16891,       0,       0],\n",
       "       [ 337611,       0,       0,       0,   19676,       0],\n",
       "       [     27,       0,       0,       0,       0,    1550]],\n",
       "      dtype=int64)"
      ]
     },
     "execution_count": 4,
     "metadata": {},
     "output_type": "execute_result"
    }
   ],
   "source": [
    "confusion_matrix(y_true, y_pred)"
   ]
  },
  {
   "cell_type": "code",
   "execution_count": null,
   "metadata": {},
   "outputs": [],
   "source": []
  },
  {
   "cell_type": "code",
   "execution_count": null,
   "metadata": {},
   "outputs": [],
   "source": []
  }
 ],
 "metadata": {
  "kernelspec": {
   "display_name": "Python [default]",
   "language": "python",
   "name": "python3"
  },
  "language_info": {
   "codemirror_mode": {
    "name": "ipython",
    "version": 3
   },
   "file_extension": ".py",
   "mimetype": "text/x-python",
   "name": "python",
   "nbconvert_exporter": "python",
   "pygments_lexer": "ipython3",
   "version": "3.6.3"
  }
 },
 "nbformat": 4,
 "nbformat_minor": 2
}
